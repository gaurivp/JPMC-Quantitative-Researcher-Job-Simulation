{
 "cells": [
  {
   "cell_type": "markdown",
   "id": "5b5fcb37",
   "metadata": {},
   "source": [
    "### Gauri Purandare - Task 2"
   ]
  },
  {
   "cell_type": "code",
   "execution_count": 1,
   "id": "de2e5e45",
   "metadata": {},
   "outputs": [],
   "source": [
    "import numpy as np\n",
    "import pandas as pd\n",
    "import matplotlib.pyplot as plt\n",
    "import seaborn as sns\n",
    "import tensorflow as tf\n",
    "from tensorflow import keras\n",
    "import datetime\n",
    "from datetime import datetime"
   ]
  },
  {
   "cell_type": "code",
   "execution_count": 2,
   "id": "cd757e66",
   "metadata": {},
   "outputs": [],
   "source": [
    "data = pd.read_csv(r\"C:\\Users\\gauri\\Documents\\JPMC - Quantitative Researcher\\Nat_Gas.csv\")"
   ]
  },
  {
   "cell_type": "code",
   "execution_count": 3,
   "id": "5c2d2eda",
   "metadata": {},
   "outputs": [
    {
     "name": "stdout",
     "output_type": "stream",
     "text": [
      "       Dates  Prices\n",
      "0   10/31/20   10.10\n",
      "1   11/30/20   10.30\n",
      "2   12/31/20   11.00\n",
      "3    1/31/21   10.90\n",
      "4    2/28/21   10.90\n",
      "5    3/31/21   10.90\n",
      "6    4/30/21   10.40\n",
      "7    5/31/21    9.84\n",
      "8    6/30/21   10.00\n",
      "9    7/31/21   10.10\n",
      "10   8/31/21   10.30\n",
      "11   9/30/21   10.20\n",
      "12  10/31/21   10.10\n",
      "13  11/30/21   11.20\n",
      "14  12/31/21   11.40\n",
      "15   1/31/22   11.50\n",
      "16   2/28/22   11.80\n",
      "17   3/31/22   11.50\n",
      "18   4/30/22   10.70\n",
      "19   5/31/22   10.70\n",
      "20   6/30/22   10.40\n",
      "21   7/31/22   10.50\n",
      "22   8/31/22   10.40\n",
      "23   9/30/22   10.80\n",
      "24  10/31/22   11.00\n",
      "25  11/30/22   11.60\n",
      "26  12/31/22   11.60\n",
      "27   1/31/23   12.10\n",
      "28   2/28/23   11.70\n",
      "29   3/31/23   12.00\n",
      "30   4/30/23   11.50\n",
      "31   5/31/23   11.20\n",
      "32   6/30/23   10.90\n",
      "33   7/31/23   11.40\n",
      "34   8/31/23   11.10\n",
      "35   9/30/23   11.50\n",
      "36  10/31/23   11.80\n",
      "37  11/30/23   12.20\n",
      "38  12/31/23   12.80\n",
      "39   1/31/24   12.60\n",
      "40   2/29/24   12.40\n",
      "41   3/31/24   12.70\n",
      "42   4/30/24   12.10\n",
      "43   5/31/24   11.40\n",
      "44   6/30/24   11.50\n",
      "45   7/31/24   11.60\n",
      "46   8/31/24   11.50\n",
      "47   9/30/24   11.80\n"
     ]
    }
   ],
   "source": [
    "print(data)"
   ]
  },
  {
   "cell_type": "code",
   "execution_count": 4,
   "id": "f644685a",
   "metadata": {},
   "outputs": [],
   "source": [
    "data.rename(columns={\"Dates\": \"ds\", \"Prices\": \"y\"}, inplace=True)\n",
    "data[\"ds\"] = pd.to_datetime(data[\"ds\"], infer_datetime_format=True)"
   ]
  },
  {
   "cell_type": "code",
   "execution_count": 5,
   "id": "a68f8ed9",
   "metadata": {},
   "outputs": [
    {
     "data": {
      "text/html": [
       "<div>\n",
       "<style scoped>\n",
       "    .dataframe tbody tr th:only-of-type {\n",
       "        vertical-align: middle;\n",
       "    }\n",
       "\n",
       "    .dataframe tbody tr th {\n",
       "        vertical-align: top;\n",
       "    }\n",
       "\n",
       "    .dataframe thead th {\n",
       "        text-align: right;\n",
       "    }\n",
       "</style>\n",
       "<table border=\"1\" class=\"dataframe\">\n",
       "  <thead>\n",
       "    <tr style=\"text-align: right;\">\n",
       "      <th></th>\n",
       "      <th>ds</th>\n",
       "      <th>y</th>\n",
       "    </tr>\n",
       "  </thead>\n",
       "  <tbody>\n",
       "    <tr>\n",
       "      <th>0</th>\n",
       "      <td>2020-10-31</td>\n",
       "      <td>10.10</td>\n",
       "    </tr>\n",
       "    <tr>\n",
       "      <th>1</th>\n",
       "      <td>2020-11-30</td>\n",
       "      <td>10.30</td>\n",
       "    </tr>\n",
       "    <tr>\n",
       "      <th>2</th>\n",
       "      <td>2020-12-31</td>\n",
       "      <td>11.00</td>\n",
       "    </tr>\n",
       "    <tr>\n",
       "      <th>3</th>\n",
       "      <td>2021-01-31</td>\n",
       "      <td>10.90</td>\n",
       "    </tr>\n",
       "    <tr>\n",
       "      <th>4</th>\n",
       "      <td>2021-02-28</td>\n",
       "      <td>10.90</td>\n",
       "    </tr>\n",
       "    <tr>\n",
       "      <th>5</th>\n",
       "      <td>2021-03-31</td>\n",
       "      <td>10.90</td>\n",
       "    </tr>\n",
       "    <tr>\n",
       "      <th>6</th>\n",
       "      <td>2021-04-30</td>\n",
       "      <td>10.40</td>\n",
       "    </tr>\n",
       "    <tr>\n",
       "      <th>7</th>\n",
       "      <td>2021-05-31</td>\n",
       "      <td>9.84</td>\n",
       "    </tr>\n",
       "    <tr>\n",
       "      <th>8</th>\n",
       "      <td>2021-06-30</td>\n",
       "      <td>10.00</td>\n",
       "    </tr>\n",
       "    <tr>\n",
       "      <th>9</th>\n",
       "      <td>2021-07-31</td>\n",
       "      <td>10.10</td>\n",
       "    </tr>\n",
       "  </tbody>\n",
       "</table>\n",
       "</div>"
      ],
      "text/plain": [
       "          ds      y\n",
       "0 2020-10-31  10.10\n",
       "1 2020-11-30  10.30\n",
       "2 2020-12-31  11.00\n",
       "3 2021-01-31  10.90\n",
       "4 2021-02-28  10.90\n",
       "5 2021-03-31  10.90\n",
       "6 2021-04-30  10.40\n",
       "7 2021-05-31   9.84\n",
       "8 2021-06-30  10.00\n",
       "9 2021-07-31  10.10"
      ]
     },
     "execution_count": 5,
     "metadata": {},
     "output_type": "execute_result"
    }
   ],
   "source": [
    "data.head(10)"
   ]
  },
  {
   "cell_type": "code",
   "execution_count": 6,
   "id": "4e9704ce",
   "metadata": {},
   "outputs": [],
   "source": [
    "def contract(prices, injection_date, withdrawal_date, i_rate, w_rate, max_storage, storage_cost, i_cost, w_cost, transport):\n",
    "    \n",
    "    current_contract_value = 0\n",
    "    current_gas = 0\n",
    "    for idate in injection_date:\n",
    "        date = datetime.strptime(idate, '%m/%d/%y')\n",
    "        price = prices.loc[prices['Dates'] == date, 'Prices'].values\n",
    "        if price.size == 0:\n",
    "            continue\n",
    "            \n",
    "        i_gas = min(i_rate, max_storage - current_gas)\n",
    "        current_gas += i_gas\n",
    "        cost = i_gas * price[0] + i_gas * i_cost + transport\n",
    "        current_contract_value -= cost  \n",
    "                \n",
    "    for wdate in withdrawal_date:\n",
    "        date = datetime.strptime(wdate, '%m/%d/%y')\n",
    "        price = prices.loc[prices['Dates'] == date, 'Prices'].values\n",
    "        if price.size == 0:\n",
    "            continue\n",
    "            \n",
    "        w_gas = min(w_rate, current_gas)\n",
    "        current_gas -= w_gas\n",
    "        revenue = w_gas * price[0] - w_gas * w_cost - transport\n",
    "        current_contract_value += revenue \n",
    "    \n",
    "        num_months = len(set(injection_date + withdrawal_date))\n",
    "        current_contract_value -= num_months * storage_cost\n",
    "        \n",
    "        \n",
    "        return current_contract_value"
   ]
  },
  {
   "cell_type": "code",
   "execution_count": 11,
   "id": "829959bf",
   "metadata": {},
   "outputs": [
    {
     "name": "stdout",
     "output_type": "stream",
     "text": [
      "Estimated Contract Value: $ 950000.0\n"
     ]
    }
   ],
   "source": [
    "df = {'Dates': pd.to_datetime(['07/01/25','08/01/25','12/01/25']), 'Prices': [3.00, 3.10, 4.50]}\n",
    "\n",
    "prices = pd.DataFrame(df)\n",
    "\n",
    "injection_date = ['07/01/25','08/01/25'] \n",
    "withdrawal_date = ['12/01/25'] \n",
    "\n",
    "i_rate = 500000 \n",
    "w_rate = 1000000  \n",
    "max_storage = 1000000 \n",
    "storage_cost = 100000  \n",
    "i_cost = 0.02  \n",
    "w_cost = 0.03  \n",
    "transport = 50000  \n",
    "\n",
    "final_contract = contract(prices, injection_date, withdrawal_date, i_rate, w_rate, max_storage,storage_cost, i_cost, w_cost, transport)\n",
    "\n",
    "print(f\"Estimated Contract Value: ${final_contract: }\")\n"
   ]
  },
  {
   "cell_type": "code",
   "execution_count": null,
   "id": "4efaada3",
   "metadata": {},
   "outputs": [],
   "source": []
  }
 ],
 "metadata": {
  "kernelspec": {
   "display_name": "Python 3 (ipykernel)",
   "language": "python",
   "name": "python3"
  },
  "language_info": {
   "codemirror_mode": {
    "name": "ipython",
    "version": 3
   },
   "file_extension": ".py",
   "mimetype": "text/x-python",
   "name": "python",
   "nbconvert_exporter": "python",
   "pygments_lexer": "ipython3",
   "version": "3.9.13"
  }
 },
 "nbformat": 4,
 "nbformat_minor": 5
}
